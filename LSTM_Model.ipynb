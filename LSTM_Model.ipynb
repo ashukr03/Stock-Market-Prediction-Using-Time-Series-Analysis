{
 "cells": [
  {
   "cell_type": "code",
   "execution_count": 52,
   "id": "cfa3c9e0",
   "metadata": {},
   "outputs": [],
   "source": [
    "import numpy as np \n",
    "import pandas as pd \n",
    "import matplotlib.pyplot as plt \n",
    "import yfinance as yf\n"
   ]
  },
  {
   "cell_type": "code",
   "execution_count": null,
   "id": "edf88f90",
   "metadata": {},
   "outputs": [
    {
     "data": {
      "text/html": [
       "<div>\n",
       "<style scoped>\n",
       "    .dataframe tbody tr th:only-of-type {\n",
       "        vertical-align: middle;\n",
       "    }\n",
       "\n",
       "    .dataframe tbody tr th {\n",
       "        vertical-align: top;\n",
       "    }\n",
       "\n",
       "    .dataframe thead tr th {\n",
       "        text-align: left;\n",
       "    }\n",
       "\n",
       "    .dataframe thead tr:last-of-type th {\n",
       "        text-align: right;\n",
       "    }\n",
       "</style>\n",
       "<table border=\"1\" class=\"dataframe\">\n",
       "  <thead>\n",
       "    <tr>\n",
       "      <th>Price</th>\n",
       "      <th>Close</th>\n",
       "      <th>High</th>\n",
       "      <th>Low</th>\n",
       "      <th>Open</th>\n",
       "      <th>Volume</th>\n",
       "    </tr>\n",
       "    <tr>\n",
       "      <th>Ticker</th>\n",
       "      <th>GOOGL</th>\n",
       "      <th>GOOGL</th>\n",
       "      <th>GOOGL</th>\n",
       "      <th>GOOGL</th>\n",
       "      <th>GOOGL</th>\n",
       "    </tr>\n",
       "    <tr>\n",
       "      <th>Date</th>\n",
       "      <th></th>\n",
       "      <th></th>\n",
       "      <th></th>\n",
       "      <th></th>\n",
       "      <th></th>\n",
       "    </tr>\n",
       "  </thead>\n",
       "  <tbody>\n",
       "    <tr>\n",
       "      <th>2010-01-04</th>\n",
       "      <td>15.590931</td>\n",
       "      <td>15.659589</td>\n",
       "      <td>15.528494</td>\n",
       "      <td>15.595906</td>\n",
       "      <td>78169752</td>\n",
       "    </tr>\n",
       "    <tr>\n",
       "      <th>2010-01-05</th>\n",
       "      <td>15.522272</td>\n",
       "      <td>15.618045</td>\n",
       "      <td>15.461327</td>\n",
       "      <td>15.601626</td>\n",
       "      <td>120067812</td>\n",
       "    </tr>\n",
       "    <tr>\n",
       "      <th>2010-01-06</th>\n",
       "      <td>15.130976</td>\n",
       "      <td>15.568790</td>\n",
       "      <td>15.083712</td>\n",
       "      <td>15.568790</td>\n",
       "      <td>158988852</td>\n",
       "    </tr>\n",
       "    <tr>\n",
       "      <th>2010-01-07</th>\n",
       "      <td>14.778734</td>\n",
       "      <td>15.174261</td>\n",
       "      <td>14.742665</td>\n",
       "      <td>15.159335</td>\n",
       "      <td>256315428</td>\n",
       "    </tr>\n",
       "    <tr>\n",
       "      <th>2010-01-08</th>\n",
       "      <td>14.975752</td>\n",
       "      <td>15.006348</td>\n",
       "      <td>14.654604</td>\n",
       "      <td>14.726495</td>\n",
       "      <td>188783028</td>\n",
       "    </tr>\n",
       "  </tbody>\n",
       "</table>\n",
       "</div>"
      ],
      "text/plain": [
       "Price           Close       High        Low       Open     Volume\n",
       "Ticker          GOOGL      GOOGL      GOOGL      GOOGL      GOOGL\n",
       "Date                                                             \n",
       "2010-01-04  15.590931  15.659589  15.528494  15.595906   78169752\n",
       "2010-01-05  15.522272  15.618045  15.461327  15.601626  120067812\n",
       "2010-01-06  15.130976  15.568790  15.083712  15.568790  158988852\n",
       "2010-01-07  14.778734  15.174261  14.742665  15.159335  256315428\n",
       "2010-01-08  14.975752  15.006348  14.654604  14.726495  188783028"
      ]
     },
     "execution_count": 61,
     "metadata": {},
     "output_type": "execute_result"
    }
   ],
   "source": [
    "start = '2010-01-01'\n",
    "end = '2025-06-17'\n",
    "\n",
    "df = yf.download('GOOGL', start=start, end=end)\n",
    "df.head()   #Shows the first 5 rows of the DataFrame"
   ]
  },
  {
   "cell_type": "code",
   "execution_count": 62,
   "id": "b97fd3e8",
   "metadata": {},
   "outputs": [
    {
     "data": {
      "text/html": [
       "<div>\n",
       "<style scoped>\n",
       "    .dataframe tbody tr th:only-of-type {\n",
       "        vertical-align: middle;\n",
       "    }\n",
       "\n",
       "    .dataframe tbody tr th {\n",
       "        vertical-align: top;\n",
       "    }\n",
       "\n",
       "    .dataframe thead tr th {\n",
       "        text-align: left;\n",
       "    }\n",
       "\n",
       "    .dataframe thead tr:last-of-type th {\n",
       "        text-align: right;\n",
       "    }\n",
       "</style>\n",
       "<table border=\"1\" class=\"dataframe\">\n",
       "  <thead>\n",
       "    <tr>\n",
       "      <th>Price</th>\n",
       "      <th>Close</th>\n",
       "      <th>High</th>\n",
       "      <th>Low</th>\n",
       "      <th>Open</th>\n",
       "      <th>Volume</th>\n",
       "    </tr>\n",
       "    <tr>\n",
       "      <th>Ticker</th>\n",
       "      <th>GOOGL</th>\n",
       "      <th>GOOGL</th>\n",
       "      <th>GOOGL</th>\n",
       "      <th>GOOGL</th>\n",
       "      <th>GOOGL</th>\n",
       "    </tr>\n",
       "    <tr>\n",
       "      <th>Date</th>\n",
       "      <th></th>\n",
       "      <th></th>\n",
       "      <th></th>\n",
       "      <th></th>\n",
       "      <th></th>\n",
       "    </tr>\n",
       "  </thead>\n",
       "  <tbody>\n",
       "    <tr>\n",
       "      <th>2025-06-10</th>\n",
       "      <td>178.600006</td>\n",
       "      <td>181.110001</td>\n",
       "      <td>174.910004</td>\n",
       "      <td>176.199997</td>\n",
       "      <td>61766100</td>\n",
       "    </tr>\n",
       "    <tr>\n",
       "      <th>2025-06-11</th>\n",
       "      <td>177.350006</td>\n",
       "      <td>180.369995</td>\n",
       "      <td>176.750000</td>\n",
       "      <td>179.770004</td>\n",
       "      <td>31646800</td>\n",
       "    </tr>\n",
       "    <tr>\n",
       "      <th>2025-06-12</th>\n",
       "      <td>175.699997</td>\n",
       "      <td>176.720001</td>\n",
       "      <td>174.750000</td>\n",
       "      <td>176.179993</td>\n",
       "      <td>20941900</td>\n",
       "    </tr>\n",
       "    <tr>\n",
       "      <th>2025-06-13</th>\n",
       "      <td>174.669998</td>\n",
       "      <td>177.130005</td>\n",
       "      <td>172.389999</td>\n",
       "      <td>172.440002</td>\n",
       "      <td>27663100</td>\n",
       "    </tr>\n",
       "    <tr>\n",
       "      <th>2025-06-16</th>\n",
       "      <td>176.770004</td>\n",
       "      <td>176.940002</td>\n",
       "      <td>174.649994</td>\n",
       "      <td>174.729996</td>\n",
       "      <td>27389200</td>\n",
       "    </tr>\n",
       "  </tbody>\n",
       "</table>\n",
       "</div>"
      ],
      "text/plain": [
       "Price            Close        High         Low        Open    Volume\n",
       "Ticker           GOOGL       GOOGL       GOOGL       GOOGL     GOOGL\n",
       "Date                                                                \n",
       "2025-06-10  178.600006  181.110001  174.910004  176.199997  61766100\n",
       "2025-06-11  177.350006  180.369995  176.750000  179.770004  31646800\n",
       "2025-06-12  175.699997  176.720001  174.750000  176.179993  20941900\n",
       "2025-06-13  174.669998  177.130005  172.389999  172.440002  27663100\n",
       "2025-06-16  176.770004  176.940002  174.649994  174.729996  27389200"
      ]
     },
     "execution_count": 62,
     "metadata": {},
     "output_type": "execute_result"
    }
   ],
   "source": [
    "df.tail()"
   ]
  },
  {
   "cell_type": "code",
   "execution_count": 63,
   "id": "86552e7f",
   "metadata": {},
   "outputs": [
    {
     "data": {
      "text/html": [
       "<div>\n",
       "<style scoped>\n",
       "    .dataframe tbody tr th:only-of-type {\n",
       "        vertical-align: middle;\n",
       "    }\n",
       "\n",
       "    .dataframe tbody tr th {\n",
       "        vertical-align: top;\n",
       "    }\n",
       "\n",
       "    .dataframe thead tr th {\n",
       "        text-align: left;\n",
       "    }\n",
       "</style>\n",
       "<table border=\"1\" class=\"dataframe\">\n",
       "  <thead>\n",
       "    <tr>\n",
       "      <th>Price</th>\n",
       "      <th>Date</th>\n",
       "      <th>Close</th>\n",
       "      <th>High</th>\n",
       "      <th>Low</th>\n",
       "      <th>Open</th>\n",
       "      <th>Volume</th>\n",
       "    </tr>\n",
       "    <tr>\n",
       "      <th>Ticker</th>\n",
       "      <th></th>\n",
       "      <th>GOOGL</th>\n",
       "      <th>GOOGL</th>\n",
       "      <th>GOOGL</th>\n",
       "      <th>GOOGL</th>\n",
       "      <th>GOOGL</th>\n",
       "    </tr>\n",
       "  </thead>\n",
       "  <tbody>\n",
       "    <tr>\n",
       "      <th>0</th>\n",
       "      <td>2010-01-04</td>\n",
       "      <td>15.590931</td>\n",
       "      <td>15.659589</td>\n",
       "      <td>15.528494</td>\n",
       "      <td>15.595906</td>\n",
       "      <td>78169752</td>\n",
       "    </tr>\n",
       "    <tr>\n",
       "      <th>1</th>\n",
       "      <td>2010-01-05</td>\n",
       "      <td>15.522272</td>\n",
       "      <td>15.618045</td>\n",
       "      <td>15.461327</td>\n",
       "      <td>15.601626</td>\n",
       "      <td>120067812</td>\n",
       "    </tr>\n",
       "    <tr>\n",
       "      <th>2</th>\n",
       "      <td>2010-01-06</td>\n",
       "      <td>15.130976</td>\n",
       "      <td>15.568790</td>\n",
       "      <td>15.083712</td>\n",
       "      <td>15.568790</td>\n",
       "      <td>158988852</td>\n",
       "    </tr>\n",
       "    <tr>\n",
       "      <th>3</th>\n",
       "      <td>2010-01-07</td>\n",
       "      <td>14.778734</td>\n",
       "      <td>15.174261</td>\n",
       "      <td>14.742665</td>\n",
       "      <td>15.159335</td>\n",
       "      <td>256315428</td>\n",
       "    </tr>\n",
       "    <tr>\n",
       "      <th>4</th>\n",
       "      <td>2010-01-08</td>\n",
       "      <td>14.975752</td>\n",
       "      <td>15.006348</td>\n",
       "      <td>14.654604</td>\n",
       "      <td>14.726495</td>\n",
       "      <td>188783028</td>\n",
       "    </tr>\n",
       "  </tbody>\n",
       "</table>\n",
       "</div>"
      ],
      "text/plain": [
       "Price        Date      Close       High        Low       Open     Volume\n",
       "Ticker                 GOOGL      GOOGL      GOOGL      GOOGL      GOOGL\n",
       "0      2010-01-04  15.590931  15.659589  15.528494  15.595906   78169752\n",
       "1      2010-01-05  15.522272  15.618045  15.461327  15.601626  120067812\n",
       "2      2010-01-06  15.130976  15.568790  15.083712  15.568790  158988852\n",
       "3      2010-01-07  14.778734  15.174261  14.742665  15.159335  256315428\n",
       "4      2010-01-08  14.975752  15.006348  14.654604  14.726495  188783028"
      ]
     },
     "execution_count": 63,
     "metadata": {},
     "output_type": "execute_result"
    }
   ],
   "source": [
    "df.reset_index(inplace=True)\n",
    "df.head()"
   ]
  },
  {
   "cell_type": "code",
   "execution_count": 65,
   "id": "dea703c3",
   "metadata": {},
   "outputs": [
    {
     "data": {
      "text/html": [
       "<div>\n",
       "<style scoped>\n",
       "    .dataframe tbody tr th:only-of-type {\n",
       "        vertical-align: middle;\n",
       "    }\n",
       "\n",
       "    .dataframe tbody tr th {\n",
       "        vertical-align: top;\n",
       "    }\n",
       "\n",
       "    .dataframe thead tr th {\n",
       "        text-align: left;\n",
       "    }\n",
       "</style>\n",
       "<table border=\"1\" class=\"dataframe\">\n",
       "  <thead>\n",
       "    <tr>\n",
       "      <th>Price</th>\n",
       "      <th>Close</th>\n",
       "      <th>High</th>\n",
       "      <th>Low</th>\n",
       "      <th>Open</th>\n",
       "      <th>Volume</th>\n",
       "    </tr>\n",
       "    <tr>\n",
       "      <th>Ticker</th>\n",
       "      <th>GOOGL</th>\n",
       "      <th>GOOGL</th>\n",
       "      <th>GOOGL</th>\n",
       "      <th>GOOGL</th>\n",
       "      <th>GOOGL</th>\n",
       "    </tr>\n",
       "  </thead>\n",
       "  <tbody>\n",
       "    <tr>\n",
       "      <th>0</th>\n",
       "      <td>15.590931</td>\n",
       "      <td>15.659589</td>\n",
       "      <td>15.528494</td>\n",
       "      <td>15.595906</td>\n",
       "      <td>78169752</td>\n",
       "    </tr>\n",
       "    <tr>\n",
       "      <th>1</th>\n",
       "      <td>15.522272</td>\n",
       "      <td>15.618045</td>\n",
       "      <td>15.461327</td>\n",
       "      <td>15.601626</td>\n",
       "      <td>120067812</td>\n",
       "    </tr>\n",
       "    <tr>\n",
       "      <th>2</th>\n",
       "      <td>15.130976</td>\n",
       "      <td>15.568790</td>\n",
       "      <td>15.083712</td>\n",
       "      <td>15.568790</td>\n",
       "      <td>158988852</td>\n",
       "    </tr>\n",
       "    <tr>\n",
       "      <th>3</th>\n",
       "      <td>14.778734</td>\n",
       "      <td>15.174261</td>\n",
       "      <td>14.742665</td>\n",
       "      <td>15.159335</td>\n",
       "      <td>256315428</td>\n",
       "    </tr>\n",
       "    <tr>\n",
       "      <th>4</th>\n",
       "      <td>14.975752</td>\n",
       "      <td>15.006348</td>\n",
       "      <td>14.654604</td>\n",
       "      <td>14.726495</td>\n",
       "      <td>188783028</td>\n",
       "    </tr>\n",
       "  </tbody>\n",
       "</table>\n",
       "</div>"
      ],
      "text/plain": [
       "Price       Close       High        Low       Open     Volume\n",
       "Ticker      GOOGL      GOOGL      GOOGL      GOOGL      GOOGL\n",
       "0       15.590931  15.659589  15.528494  15.595906   78169752\n",
       "1       15.522272  15.618045  15.461327  15.601626  120067812\n",
       "2       15.130976  15.568790  15.083712  15.568790  158988852\n",
       "3       14.778734  15.174261  14.742665  15.159335  256315428\n",
       "4       14.975752  15.006348  14.654604  14.726495  188783028"
      ]
     },
     "execution_count": 65,
     "metadata": {},
     "output_type": "execute_result"
    }
   ],
   "source": [
    "#df = df.drop(['Date'], axis=1)\n",
    "df.head()"
   ]
  },
  {
   "cell_type": "code",
   "execution_count": 66,
   "id": "4ee93d0f",
   "metadata": {},
   "outputs": [
    {
     "data": {
      "text/plain": [
       "[<matplotlib.lines.Line2D at 0x169f2aab520>]"
      ]
     },
     "execution_count": 66,
     "metadata": {},
     "output_type": "execute_result"
    },
    {
     "data": {
      "image/png": "[encoded data removed]",
      "text/plain": [
       "<Figure size 640x480 with 1 Axes>"
      ]
     },
     "metadata": {},
     "output_type": "display_data"
    }
   ],
   "source": [
    "plt.plot(df.Close)"
   ]
  },
  {
   "cell_type": "code",
   "execution_count": 67,
   "id": "408ee27e",
   "metadata": {},
   "outputs": [
    {
     "data": {
      "text/html": [
       "<div>\n",
       "<style scoped>\n",
       "    .dataframe tbody tr th:only-of-type {\n",
       "        vertical-align: middle;\n",
       "    }\n",
       "\n",
       "    .dataframe tbody tr th {\n",
       "        vertical-align: top;\n",
       "    }\n",
       "\n",
       "    .dataframe thead tr th {\n",
       "        text-align: left;\n",
       "    }\n",
       "</style>\n",
       "<table border=\"1\" class=\"dataframe\">\n",
       "  <thead>\n",
       "    <tr>\n",
       "      <th>Price</th>\n",
       "      <th>Close</th>\n",
       "      <th>High</th>\n",
       "      <th>Low</th>\n",
       "      <th>Open</th>\n",
       "      <th>Volume</th>\n",
       "    </tr>\n",
       "    <tr>\n",
       "      <th>Ticker</th>\n",
       "      <th>GOOGL</th>\n",
       "      <th>GOOGL</th>\n",
       "      <th>GOOGL</th>\n",
       "      <th>GOOGL</th>\n",
       "      <th>GOOGL</th>\n",
       "    </tr>\n",
       "  </thead>\n",
       "  <tbody>\n",
       "    <tr>\n",
       "      <th>0</th>\n",
       "      <td>15.590931</td>\n",
       "      <td>15.659589</td>\n",
       "      <td>15.528494</td>\n",
       "      <td>15.595906</td>\n",
       "      <td>78169752</td>\n",
       "    </tr>\n",
       "    <tr>\n",
       "      <th>1</th>\n",
       "      <td>15.522272</td>\n",
       "      <td>15.618045</td>\n",
       "      <td>15.461327</td>\n",
       "      <td>15.601626</td>\n",
       "      <td>120067812</td>\n",
       "    </tr>\n",
       "    <tr>\n",
       "      <th>2</th>\n",
       "      <td>15.130976</td>\n",
       "      <td>15.568790</td>\n",
       "      <td>15.083712</td>\n",
       "      <td>15.568790</td>\n",
       "      <td>158988852</td>\n",
       "    </tr>\n",
       "    <tr>\n",
       "      <th>3</th>\n",
       "      <td>14.778734</td>\n",
       "      <td>15.174261</td>\n",
       "      <td>14.742665</td>\n",
       "      <td>15.159335</td>\n",
       "      <td>256315428</td>\n",
       "    </tr>\n",
       "    <tr>\n",
       "      <th>4</th>\n",
       "      <td>14.975752</td>\n",
       "      <td>15.006348</td>\n",
       "      <td>14.654604</td>\n",
       "      <td>14.726495</td>\n",
       "      <td>188783028</td>\n",
       "    </tr>\n",
       "    <tr>\n",
       "      <th>...</th>\n",
       "      <td>...</td>\n",
       "      <td>...</td>\n",
       "      <td>...</td>\n",
       "      <td>...</td>\n",
       "      <td>...</td>\n",
       "    </tr>\n",
       "    <tr>\n",
       "      <th>3882</th>\n",
       "      <td>178.600006</td>\n",
       "      <td>181.110001</td>\n",
       "      <td>174.910004</td>\n",
       "      <td>176.199997</td>\n",
       "      <td>61766100</td>\n",
       "    </tr>\n",
       "    <tr>\n",
       "      <th>3883</th>\n",
       "      <td>177.350006</td>\n",
       "      <td>180.369995</td>\n",
       "      <td>176.750000</td>\n",
       "      <td>179.770004</td>\n",
       "      <td>31646800</td>\n",
       "    </tr>\n",
       "    <tr>\n",
       "      <th>3884</th>\n",
       "      <td>175.699997</td>\n",
       "      <td>176.720001</td>\n",
       "      <td>174.750000</td>\n",
       "      <td>176.179993</td>\n",
       "      <td>20941900</td>\n",
       "    </tr>\n",
       "    <tr>\n",
       "      <th>3885</th>\n",
       "      <td>174.669998</td>\n",
       "      <td>177.130005</td>\n",
       "      <td>172.389999</td>\n",
       "      <td>172.440002</td>\n",
       "      <td>27663100</td>\n",
       "    </tr>\n",
       "    <tr>\n",
       "      <th>3886</th>\n",
       "      <td>176.770004</td>\n",
       "      <td>176.940002</td>\n",
       "      <td>174.649994</td>\n",
       "      <td>174.729996</td>\n",
       "      <td>27389200</td>\n",
       "    </tr>\n",
       "  </tbody>\n",
       "</table>\n",
       "<p>3887 rows × 5 columns</p>\n",
       "</div>"
      ],
      "text/plain": [
       "Price        Close        High         Low        Open     Volume\n",
       "Ticker       GOOGL       GOOGL       GOOGL       GOOGL      GOOGL\n",
       "0        15.590931   15.659589   15.528494   15.595906   78169752\n",
       "1        15.522272   15.618045   15.461327   15.601626  120067812\n",
       "2        15.130976   15.568790   15.083712   15.568790  158988852\n",
       "3        14.778734   15.174261   14.742665   15.159335  256315428\n",
       "4        14.975752   15.006348   14.654604   14.726495  188783028\n",
       "...            ...         ...         ...         ...        ...\n",
       "3882    178.600006  181.110001  174.910004  176.199997   61766100\n",
       "3883    177.350006  180.369995  176.750000  179.770004   31646800\n",
       "3884    175.699997  176.720001  174.750000  176.179993   20941900\n",
       "3885    174.669998  177.130005  172.389999  172.440002   27663100\n",
       "3886    176.770004  176.940002  174.649994  174.729996   27389200\n",
       "\n",
       "[3887 rows x 5 columns]"
      ]
     },
     "execution_count": 67,
     "metadata": {},
     "output_type": "execute_result"
    }
   ],
   "source": [
    "df"
   ]
  },
  {
   "cell_type": "code",
   "execution_count": 68,
   "id": "eecd34e8",
   "metadata": {},
   "outputs": [
    {
     "data": {
      "text/html": [
       "<div>\n",
       "<style scoped>\n",
       "    .dataframe tbody tr th:only-of-type {\n",
       "        vertical-align: middle;\n",
       "    }\n",
       "\n",
       "    .dataframe tbody tr th {\n",
       "        vertical-align: top;\n",
       "    }\n",
       "\n",
       "    .dataframe thead th {\n",
       "        text-align: right;\n",
       "    }\n",
       "</style>\n",
       "<table border=\"1\" class=\"dataframe\">\n",
       "  <thead>\n",
       "    <tr style=\"text-align: right;\">\n",
       "      <th>Ticker</th>\n",
       "      <th>GOOGL</th>\n",
       "    </tr>\n",
       "  </thead>\n",
       "  <tbody>\n",
       "    <tr>\n",
       "      <th>0</th>\n",
       "      <td>NaN</td>\n",
       "    </tr>\n",
       "    <tr>\n",
       "      <th>1</th>\n",
       "      <td>NaN</td>\n",
       "    </tr>\n",
       "    <tr>\n",
       "      <th>2</th>\n",
       "      <td>NaN</td>\n",
       "    </tr>\n",
       "    <tr>\n",
       "      <th>3</th>\n",
       "      <td>NaN</td>\n",
       "    </tr>\n",
       "    <tr>\n",
       "      <th>4</th>\n",
       "      <td>NaN</td>\n",
       "    </tr>\n",
       "    <tr>\n",
       "      <th>...</th>\n",
       "      <td>...</td>\n",
       "    </tr>\n",
       "    <tr>\n",
       "      <th>3882</th>\n",
       "      <td>170.154483</td>\n",
       "    </tr>\n",
       "    <tr>\n",
       "      <th>3883</th>\n",
       "      <td>170.003432</td>\n",
       "    </tr>\n",
       "    <tr>\n",
       "      <th>3884</th>\n",
       "      <td>169.805054</td>\n",
       "    </tr>\n",
       "    <tr>\n",
       "      <th>3885</th>\n",
       "      <td>169.575925</td>\n",
       "    </tr>\n",
       "    <tr>\n",
       "      <th>3886</th>\n",
       "      <td>169.364603</td>\n",
       "    </tr>\n",
       "  </tbody>\n",
       "</table>\n",
       "<p>3887 rows × 1 columns</p>\n",
       "</div>"
      ],
      "text/plain": [
       "Ticker       GOOGL\n",
       "0              NaN\n",
       "1              NaN\n",
       "2              NaN\n",
       "3              NaN\n",
       "4              NaN\n",
       "...            ...\n",
       "3882    170.154483\n",
       "3883    170.003432\n",
       "3884    169.805054\n",
       "3885    169.575925\n",
       "3886    169.364603\n",
       "\n",
       "[3887 rows x 1 columns]"
      ]
     },
     "execution_count": 68,
     "metadata": {},
     "output_type": "execute_result"
    }
   ],
   "source": [
    "ma100 = df.Close.rolling(100).mean()\n",
    "ma100"
   ]
  },
  {
   "cell_type": "code",
   "execution_count": 71,
   "id": "94099993",
   "metadata": {},
   "outputs": [
    {
     "data": {
      "text/plain": [
       "[<matplotlib.lines.Line2D at 0x169f2f59de0>]"
      ]
     },
     "execution_count": 71,
     "metadata": {},
     "output_type": "execute_result"
    },
    {
     "data": {
      "image/png": "[encoded data removed]",
      "text/plain": [
       "<Figure size 1200x600 with 1 Axes>"
      ]
     },
     "metadata": {},
     "output_type": "display_data"
    }
   ],
   "source": [
    "plt.figure(figsize=(12, 6))\n",
    "plt.plot(df.Close)\n",
    "plt.plot(ma100, 'r')"
   ]
  },
  {
   "cell_type": "code",
   "execution_count": 72,
   "id": "ae3751d4",
   "metadata": {},
   "outputs": [
    {
     "data": {
      "text/html": [
       "<div>\n",
       "<style scoped>\n",
       "    .dataframe tbody tr th:only-of-type {\n",
       "        vertical-align: middle;\n",
       "    }\n",
       "\n",
       "    .dataframe tbody tr th {\n",
       "        vertical-align: top;\n",
       "    }\n",
       "\n",
       "    .dataframe thead th {\n",
       "        text-align: right;\n",
       "    }\n",
       "</style>\n",
       "<table border=\"1\" class=\"dataframe\">\n",
       "  <thead>\n",
       "    <tr style=\"text-align: right;\">\n",
       "      <th>Ticker</th>\n",
       "      <th>GOOGL</th>\n",
       "    </tr>\n",
       "  </thead>\n",
       "  <tbody>\n",
       "    <tr>\n",
       "      <th>0</th>\n",
       "      <td>NaN</td>\n",
       "    </tr>\n",
       "    <tr>\n",
       "      <th>1</th>\n",
       "      <td>NaN</td>\n",
       "    </tr>\n",
       "    <tr>\n",
       "      <th>2</th>\n",
       "      <td>NaN</td>\n",
       "    </tr>\n",
       "    <tr>\n",
       "      <th>3</th>\n",
       "      <td>NaN</td>\n",
       "    </tr>\n",
       "    <tr>\n",
       "      <th>4</th>\n",
       "      <td>NaN</td>\n",
       "    </tr>\n",
       "    <tr>\n",
       "      <th>...</th>\n",
       "      <td>...</td>\n",
       "    </tr>\n",
       "    <tr>\n",
       "      <th>3882</th>\n",
       "      <td>171.020258</td>\n",
       "    </tr>\n",
       "    <tr>\n",
       "      <th>3883</th>\n",
       "      <td>171.091957</td>\n",
       "    </tr>\n",
       "    <tr>\n",
       "      <th>3884</th>\n",
       "      <td>171.146349</td>\n",
       "    </tr>\n",
       "    <tr>\n",
       "      <th>3885</th>\n",
       "      <td>171.192904</td>\n",
       "    </tr>\n",
       "    <tr>\n",
       "      <th>3886</th>\n",
       "      <td>171.257323</td>\n",
       "    </tr>\n",
       "  </tbody>\n",
       "</table>\n",
       "<p>3887 rows × 1 columns</p>\n",
       "</div>"
      ],
      "text/plain": [
       "Ticker       GOOGL\n",
       "0              NaN\n",
       "1              NaN\n",
       "2              NaN\n",
       "3              NaN\n",
       "4              NaN\n",
       "...            ...\n",
       "3882    171.020258\n",
       "3883    171.091957\n",
       "3884    171.146349\n",
       "3885    171.192904\n",
       "3886    171.257323\n",
       "\n",
       "[3887 rows x 1 columns]"
      ]
     },
     "execution_count": 72,
     "metadata": {},
     "output_type": "execute_result"
    }
   ],
   "source": [
    "ma200 = df.Close.rolling(200).mean()\n",
    "ma200"
   ]
  },
  {
   "cell_type": "code",
   "execution_count": 73,
   "id": "fe8cd031",
   "metadata": {},
   "outputs": [
    {
     "data": {
      "text/plain": [
       "[<matplotlib.lines.Line2D at 0x169f2fd4eb0>]"
      ]
     },
     "execution_count": 73,
     "metadata": {},
     "output_type": "execute_result"
    },
    {
     "data": {
      "image/png": "[encoded data removed]",
      "text/plain": [
       "<Figure size 1200x600 with 1 Axes>"
      ]
     },
     "metadata": {},
     "output_type": "display_data"
    }
   ],
   "source": [
    "plt.figure(figsize=(12, 6))\n",
    "plt.plot(df.Close)\n",
    "plt.plot(ma100, 'r')\n",
    "plt.plot(ma200, 'g')"
   ]
  },
  {
   "cell_type": "code",
   "execution_count": 23,
   "id": "20f168a5",
   "metadata": {},
   "outputs": [
    {
     "data": {
      "text/plain": [
       "(3887, 5)"
      ]
     },
     "execution_count": 23,
     "metadata": {},
     "output_type": "execute_result"
    }
   ],
   "source": [
    "df.shape"
   ]
  },
  {
   "cell_type": "code",
   "execution_count": 74,
   "id": "70541660",
   "metadata": {},
   "outputs": [
    {
     "name": "stdout",
     "output_type": "stream",
     "text": [
      "(2720, 1)\n",
      "(1167, 1)\n"
     ]
    }
   ],
   "source": [
    "#Splitting the data into training and testing\n",
    "\n",
    "data_training = pd.DataFrame(df['Close'][0:int(len(df)*0.70)])\n",
    "data_testing = pd.DataFrame(df['Close'][int(len(df)*0.70):int(len(df))])\n",
    "\n",
    "print(data_training.shape)\n",
    "print(data_testing.shape)"
   ]
  },
  {
   "cell_type": "code",
   "execution_count": 75,
   "id": "f045c90d",
   "metadata": {},
   "outputs": [
    {
     "data": {
      "text/html": [
       "<div>\n",
       "<style scoped>\n",
       "    .dataframe tbody tr th:only-of-type {\n",
       "        vertical-align: middle;\n",
       "    }\n",
       "\n",
       "    .dataframe tbody tr th {\n",
       "        vertical-align: top;\n",
       "    }\n",
       "\n",
       "    .dataframe thead th {\n",
       "        text-align: right;\n",
       "    }\n",
       "</style>\n",
       "<table border=\"1\" class=\"dataframe\">\n",
       "  <thead>\n",
       "    <tr style=\"text-align: right;\">\n",
       "      <th>Ticker</th>\n",
       "      <th>GOOGL</th>\n",
       "    </tr>\n",
       "  </thead>\n",
       "  <tbody>\n",
       "    <tr>\n",
       "      <th>0</th>\n",
       "      <td>15.590931</td>\n",
       "    </tr>\n",
       "    <tr>\n",
       "      <th>1</th>\n",
       "      <td>15.522272</td>\n",
       "    </tr>\n",
       "    <tr>\n",
       "      <th>2</th>\n",
       "      <td>15.130976</td>\n",
       "    </tr>\n",
       "    <tr>\n",
       "      <th>3</th>\n",
       "      <td>14.778734</td>\n",
       "    </tr>\n",
       "    <tr>\n",
       "      <th>4</th>\n",
       "      <td>14.975752</td>\n",
       "    </tr>\n",
       "  </tbody>\n",
       "</table>\n",
       "</div>"
      ],
      "text/plain": [
       "Ticker      GOOGL\n",
       "0       15.590931\n",
       "1       15.522272\n",
       "2       15.130976\n",
       "3       14.778734\n",
       "4       14.975752"
      ]
     },
     "execution_count": 75,
     "metadata": {},
     "output_type": "execute_result"
    }
   ],
   "source": [
    "data_training.head()"
   ]
  },
  {
   "cell_type": "code",
   "execution_count": 76,
   "id": "cc857074",
   "metadata": {},
   "outputs": [
    {
     "data": {
      "text/html": [
       "<div>\n",
       "<style scoped>\n",
       "    .dataframe tbody tr th:only-of-type {\n",
       "        vertical-align: middle;\n",
       "    }\n",
       "\n",
       "    .dataframe tbody tr th {\n",
       "        vertical-align: top;\n",
       "    }\n",
       "\n",
       "    .dataframe thead th {\n",
       "        text-align: right;\n",
       "    }\n",
       "</style>\n",
       "<table border=\"1\" class=\"dataframe\">\n",
       "  <thead>\n",
       "    <tr style=\"text-align: right;\">\n",
       "      <th>Ticker</th>\n",
       "      <th>GOOGL</th>\n",
       "    </tr>\n",
       "  </thead>\n",
       "  <tbody>\n",
       "    <tr>\n",
       "      <th>2720</th>\n",
       "      <td>79.854080</td>\n",
       "    </tr>\n",
       "    <tr>\n",
       "      <th>2721</th>\n",
       "      <td>81.162247</td>\n",
       "    </tr>\n",
       "    <tr>\n",
       "      <th>2722</th>\n",
       "      <td>78.742249</td>\n",
       "    </tr>\n",
       "    <tr>\n",
       "      <th>2723</th>\n",
       "      <td>79.467407</td>\n",
       "    </tr>\n",
       "    <tr>\n",
       "      <th>2724</th>\n",
       "      <td>75.089661</td>\n",
       "    </tr>\n",
       "  </tbody>\n",
       "</table>\n",
       "</div>"
      ],
      "text/plain": [
       "Ticker      GOOGL\n",
       "2720    79.854080\n",
       "2721    81.162247\n",
       "2722    78.742249\n",
       "2723    79.467407\n",
       "2724    75.089661"
      ]
     },
     "execution_count": 76,
     "metadata": {},
     "output_type": "execute_result"
    }
   ],
   "source": [
    "data_testing.head()"
   ]
  },
  {
   "cell_type": "code",
   "execution_count": 77,
   "id": "623a8f33",
   "metadata": {},
   "outputs": [],
   "source": [
    "from sklearn.preprocessing import MinMaxScaler\n",
    "scaler = MinMaxScaler(feature_range=(0,1))"
   ]
  },
  {
   "cell_type": "code",
   "execution_count": 78,
   "id": "ee231c9c",
   "metadata": {},
   "outputs": [
    {
     "data": {
      "text/plain": [
       "array([[0.06366025],\n",
       "       [0.06273877],\n",
       "       [0.05748718],\n",
       "       ...,\n",
       "       [0.87496799],\n",
       "       [0.88906277],\n",
       "       [0.91234958]])"
      ]
     },
     "execution_count": 78,
     "metadata": {},
     "output_type": "execute_result"
    }
   ],
   "source": [
    "data_training_array = scaler.fit_transform(data_training)\n",
    "data_training_array"
   ]
  },
  {
   "cell_type": "code",
   "execution_count": 79,
   "id": "012172dd",
   "metadata": {},
   "outputs": [
    {
     "data": {
      "text/plain": [
       "(2720, 1)"
      ]
     },
     "execution_count": 79,
     "metadata": {},
     "output_type": "execute_result"
    }
   ],
   "source": [
    "data_training_array.shape"
   ]
  },
  {
   "cell_type": "code",
   "execution_count": 80,
   "id": "d852aeb0",
   "metadata": {},
   "outputs": [],
   "source": [
    "x_train = []\n",
    "y_train = []\n",
    "\n",
    "for i in range(100, data_training_array.shape[0]):\n",
    "    x_train.append(data_training_array[i-100:i])\n",
    "    y_train.append(data_training_array[i, 0])\n",
    "\n",
    "x_train, y_train = np.array(x_train), np.array(y_train)\n"
   ]
  },
  {
   "cell_type": "code",
   "execution_count": 81,
   "id": "e882902a",
   "metadata": {},
   "outputs": [],
   "source": [
    "#ML Model"
   ]
  },
  {
   "cell_type": "code",
   "execution_count": 82,
   "id": "60f4fd72",
   "metadata": {},
   "outputs": [],
   "source": [
    "from keras.layers import Dense, LSTM, Dropout\n",
    "from keras.models import Sequential"
   ]
  },
  {
   "cell_type": "code",
   "execution_count": 84,
   "id": "61b9e854",
   "metadata": {},
   "outputs": [],
   "source": [
    "model = Sequential()\n",
    "model.add(LSTM(units=50, activation='relu', return_sequences=True, input_shape=(x_train.shape[1], 1)))\n",
    "model.add(Dropout(0.2))\n",
    "\n",
    "model.add(LSTM(units=60, activation='relu', return_sequences=True))\n",
    "model.add(Dropout(0.3))\n",
    "\n",
    "model.add(LSTM(units=80, activation='relu', return_sequences=True))\n",
    "model.add(Dropout(0.4))\n",
    "\n",
    "model.add(LSTM(units=120, activation='relu'))\n",
    "model.add(Dropout(0.5))\n",
    "\n",
    "\n",
    "model.add(Dense(units=1))"
   ]
  },
  {
   "cell_type": "code",
   "execution_count": 85,
   "id": "b2842e66",
   "metadata": {},
   "outputs": [
    {
     "name": "stdout",
     "output_type": "stream",
     "text": [
      "Model: \"sequential_3\"\n",
      "_________________________________________________________________\n",
      " Layer (type)                Output Shape              Param #   \n",
      "=================================================================\n",
      " lstm_12 (LSTM)              (None, 100, 50)           10400     \n",
      "                                                                 \n",
      " dropout_12 (Dropout)        (None, 100, 50)           0         \n",
      "                                                                 \n",
      " lstm_13 (LSTM)              (None, 100, 60)           26640     \n",
      "                                                                 \n",
      " dropout_13 (Dropout)        (None, 100, 60)           0         \n",
      "                                                                 \n",
      " lstm_14 (LSTM)              (None, 100, 80)           45120     \n",
      "                                                                 \n",
      " dropout_14 (Dropout)        (None, 100, 80)           0         \n",
      "                                                                 \n",
      " lstm_15 (LSTM)              (None, 120)               96480     \n",
      "                                                                 \n",
      " dropout_15 (Dropout)        (None, 120)               0         \n",
      "                                                                 \n",
      " dense_3 (Dense)             (None, 1)                 121       \n",
      "                                                                 \n",
      "=================================================================\n",
      "Total params: 178,761\n",
      "Trainable params: 178,761\n",
      "Non-trainable params: 0\n",
      "_________________________________________________________________\n"
     ]
    }
   ],
   "source": [
    "model.summary()"
   ]
  },
  {
   "cell_type": "code",
   "execution_count": 86,
   "id": "c4c203dd",
   "metadata": {},
   "outputs": [
    {
     "name": "stdout",
     "output_type": "stream",
     "text": [
      "Epoch 1/50\n",
      "82/82 [==============================] - 16s 137ms/step - loss: 0.0276\n",
      "Epoch 2/50\n",
      "82/82 [==============================] - 11s 138ms/step - loss: 0.0069\n",
      "Epoch 3/50\n",
      "82/82 [==============================] - 12s 140ms/step - loss: 0.0056\n",
      "Epoch 4/50\n",
      "82/82 [==============================] - 12s 147ms/step - loss: 0.0049\n",
      "Epoch 5/50\n",
      "82/82 [==============================] - 11s 138ms/step - loss: 0.0046\n",
      "Epoch 6/50\n",
      "82/82 [==============================] - 14s 169ms/step - loss: 0.0038\n",
      "Epoch 7/50\n",
      "82/82 [==============================] - 11s 140ms/step - loss: 0.0041\n",
      "Epoch 8/50\n",
      "82/82 [==============================] - 11s 140ms/step - loss: 0.0038\n",
      "Epoch 9/50\n",
      "82/82 [==============================] - 11s 137ms/step - loss: 0.0039\n",
      "Epoch 10/50\n",
      "82/82 [==============================] - 12s 141ms/step - loss: 0.0035\n",
      "Epoch 11/50\n",
      "82/82 [==============================] - 12s 141ms/step - loss: 0.0036\n",
      "Epoch 12/50\n",
      "82/82 [==============================] - 13s 158ms/step - loss: 0.0033\n",
      "Epoch 13/50\n",
      "82/82 [==============================] - 14s 168ms/step - loss: 0.0033\n",
      "Epoch 14/50\n",
      "82/82 [==============================] - 12s 140ms/step - loss: 0.0029\n",
      "Epoch 15/50\n",
      "82/82 [==============================] - 11s 137ms/step - loss: 0.0030\n",
      "Epoch 16/50\n",
      "82/82 [==============================] - 11s 137ms/step - loss: 0.0031\n",
      "Epoch 17/50\n",
      "82/82 [==============================] - 11s 136ms/step - loss: 0.0029\n",
      "Epoch 18/50\n",
      "82/82 [==============================] - 11s 137ms/step - loss: 0.0028\n",
      "Epoch 19/50\n",
      "82/82 [==============================] - 11s 137ms/step - loss: 0.0028\n",
      "Epoch 20/50\n",
      "82/82 [==============================] - 12s 152ms/step - loss: 0.0026\n",
      "Epoch 21/50\n",
      "82/82 [==============================] - 11s 139ms/step - loss: 0.0027\n",
      "Epoch 22/50\n",
      "82/82 [==============================] - 11s 137ms/step - loss: 0.0028\n",
      "Epoch 23/50\n",
      "82/82 [==============================] - 11s 139ms/step - loss: 0.0026\n",
      "Epoch 24/50\n",
      "82/82 [==============================] - 11s 137ms/step - loss: 0.0025\n",
      "Epoch 25/50\n",
      "82/82 [==============================] - 11s 139ms/step - loss: 0.0023\n",
      "Epoch 26/50\n",
      "82/82 [==============================] - 11s 138ms/step - loss: 0.0026\n",
      "Epoch 27/50\n",
      "82/82 [==============================] - 11s 137ms/step - loss: 0.0024\n",
      "Epoch 28/50\n",
      "82/82 [==============================] - 11s 137ms/step - loss: 0.0023\n",
      "Epoch 29/50\n",
      "82/82 [==============================] - 11s 138ms/step - loss: 0.0022\n",
      "Epoch 30/50\n",
      "82/82 [==============================] - 11s 138ms/step - loss: 0.0022\n",
      "Epoch 31/50\n",
      "82/82 [==============================] - 11s 137ms/step - loss: 0.0022\n",
      "Epoch 32/50\n",
      "82/82 [==============================] - 11s 138ms/step - loss: 0.0023\n",
      "Epoch 33/50\n",
      "82/82 [==============================] - 11s 137ms/step - loss: 0.0023\n",
      "Epoch 34/50\n",
      "82/82 [==============================] - 12s 144ms/step - loss: 0.0024\n",
      "Epoch 35/50\n",
      "82/82 [==============================] - 13s 158ms/step - loss: 0.0020\n",
      "Epoch 36/50\n",
      "82/82 [==============================] - 14s 173ms/step - loss: 0.0022\n",
      "Epoch 37/50\n",
      "82/82 [==============================] - 13s 161ms/step - loss: 0.0022\n",
      "Epoch 38/50\n",
      "82/82 [==============================] - 13s 162ms/step - loss: 0.0024\n",
      "Epoch 39/50\n",
      "82/82 [==============================] - 13s 163ms/step - loss: 0.0020\n",
      "Epoch 40/50\n",
      "82/82 [==============================] - 13s 161ms/step - loss: 0.0023\n",
      "Epoch 41/50\n",
      "82/82 [==============================] - 13s 159ms/step - loss: 0.0021\n",
      "Epoch 42/50\n",
      "82/82 [==============================] - 13s 159ms/step - loss: 0.0020\n",
      "Epoch 43/50\n",
      "82/82 [==============================] - 13s 160ms/step - loss: 0.0020\n",
      "Epoch 44/50\n",
      "82/82 [==============================] - 13s 161ms/step - loss: 0.0022\n",
      "Epoch 45/50\n",
      "82/82 [==============================] - 13s 160ms/step - loss: 0.0022\n",
      "Epoch 46/50\n",
      "82/82 [==============================] - 13s 160ms/step - loss: 0.0022\n",
      "Epoch 47/50\n",
      "82/82 [==============================] - 13s 160ms/step - loss: 0.0021\n",
      "Epoch 48/50\n",
      "82/82 [==============================] - 13s 160ms/step - loss: 0.0021\n",
      "Epoch 49/50\n",
      "82/82 [==============================] - 13s 160ms/step - loss: 0.0021\n",
      "Epoch 50/50\n",
      "82/82 [==============================] - 13s 159ms/step - loss: 0.0020\n"
     ]
    },
    {
     "data": {
      "text/plain": [
       "<keras.callbacks.History at 0x169f30493f0>"
      ]
     },
     "execution_count": 86,
     "metadata": {},
     "output_type": "execute_result"
    }
   ],
   "source": [
    "model.compile(optimizer='adam', loss='mean_squared_error')\n",
    "model.fit(x_train, y_train, epochs=50)"
   ]
  },
  {
   "cell_type": "code",
   "execution_count": 87,
   "id": "f0a6e39b",
   "metadata": {},
   "outputs": [],
   "source": [
    "model.save('keras_model.h5')"
   ]
  },
  {
   "cell_type": "code",
   "execution_count": 88,
   "id": "bbb67e20",
   "metadata": {},
   "outputs": [
    {
     "data": {
      "text/html": [
       "<div>\n",
       "<style scoped>\n",
       "    .dataframe tbody tr th:only-of-type {\n",
       "        vertical-align: middle;\n",
       "    }\n",
       "\n",
       "    .dataframe tbody tr th {\n",
       "        vertical-align: top;\n",
       "    }\n",
       "\n",
       "    .dataframe thead th {\n",
       "        text-align: right;\n",
       "    }\n",
       "</style>\n",
       "<table border=\"1\" class=\"dataframe\">\n",
       "  <thead>\n",
       "    <tr style=\"text-align: right;\">\n",
       "      <th>Ticker</th>\n",
       "      <th>GOOGL</th>\n",
       "    </tr>\n",
       "  </thead>\n",
       "  <tbody>\n",
       "    <tr>\n",
       "      <th>2720</th>\n",
       "      <td>79.854080</td>\n",
       "    </tr>\n",
       "    <tr>\n",
       "      <th>2721</th>\n",
       "      <td>81.162247</td>\n",
       "    </tr>\n",
       "    <tr>\n",
       "      <th>2722</th>\n",
       "      <td>78.742249</td>\n",
       "    </tr>\n",
       "    <tr>\n",
       "      <th>2723</th>\n",
       "      <td>79.467407</td>\n",
       "    </tr>\n",
       "    <tr>\n",
       "      <th>2724</th>\n",
       "      <td>75.089661</td>\n",
       "    </tr>\n",
       "  </tbody>\n",
       "</table>\n",
       "</div>"
      ],
      "text/plain": [
       "Ticker      GOOGL\n",
       "2720    79.854080\n",
       "2721    81.162247\n",
       "2722    78.742249\n",
       "2723    79.467407\n",
       "2724    75.089661"
      ]
     },
     "execution_count": 88,
     "metadata": {},
     "output_type": "execute_result"
    }
   ],
   "source": [
    "data_testing.head()"
   ]
  },
  {
   "cell_type": "code",
   "execution_count": 90,
   "id": "d203420f",
   "metadata": {},
   "outputs": [
    {
     "data": {
      "text/html": [
       "<div>\n",
       "<style scoped>\n",
       "    .dataframe tbody tr th:only-of-type {\n",
       "        vertical-align: middle;\n",
       "    }\n",
       "\n",
       "    .dataframe tbody tr th {\n",
       "        vertical-align: top;\n",
       "    }\n",
       "\n",
       "    .dataframe thead th {\n",
       "        text-align: right;\n",
       "    }\n",
       "</style>\n",
       "<table border=\"1\" class=\"dataframe\">\n",
       "  <thead>\n",
       "    <tr style=\"text-align: right;\">\n",
       "      <th>Ticker</th>\n",
       "      <th>GOOGL</th>\n",
       "    </tr>\n",
       "  </thead>\n",
       "  <tbody>\n",
       "    <tr>\n",
       "      <th>2620</th>\n",
       "      <td>71.685570</td>\n",
       "    </tr>\n",
       "    <tr>\n",
       "      <th>2621</th>\n",
       "      <td>71.533485</td>\n",
       "    </tr>\n",
       "    <tr>\n",
       "      <th>2622</th>\n",
       "      <td>70.293434</td>\n",
       "    </tr>\n",
       "    <tr>\n",
       "      <th>2623</th>\n",
       "      <td>71.571762</td>\n",
       "    </tr>\n",
       "    <tr>\n",
       "      <th>2624</th>\n",
       "      <td>71.970375</td>\n",
       "    </tr>\n",
       "    <tr>\n",
       "      <th>...</th>\n",
       "      <td>...</td>\n",
       "    </tr>\n",
       "    <tr>\n",
       "      <th>2715</th>\n",
       "      <td>77.309845</td>\n",
       "    </tr>\n",
       "    <tr>\n",
       "      <th>2716</th>\n",
       "      <td>77.917694</td>\n",
       "    </tr>\n",
       "    <tr>\n",
       "      <th>2717</th>\n",
       "      <td>76.041451</td>\n",
       "    </tr>\n",
       "    <tr>\n",
       "      <th>2718</th>\n",
       "      <td>77.091652</td>\n",
       "    </tr>\n",
       "    <tr>\n",
       "      <th>2719</th>\n",
       "      <td>78.826752</td>\n",
       "    </tr>\n",
       "  </tbody>\n",
       "</table>\n",
       "<p>100 rows × 1 columns</p>\n",
       "</div>"
      ],
      "text/plain": [
       "Ticker      GOOGL\n",
       "2620    71.685570\n",
       "2621    71.533485\n",
       "2622    70.293434\n",
       "2623    71.571762\n",
       "2624    71.970375\n",
       "...           ...\n",
       "2715    77.309845\n",
       "2716    77.917694\n",
       "2717    76.041451\n",
       "2718    77.091652\n",
       "2719    78.826752\n",
       "\n",
       "[100 rows x 1 columns]"
      ]
     },
     "execution_count": 90,
     "metadata": {},
     "output_type": "execute_result"
    }
   ],
   "source": [
    "data_training.tail(100)"
   ]
  },
  {
   "cell_type": "code",
   "execution_count": 91,
   "id": "343a4313",
   "metadata": {},
   "outputs": [],
   "source": [
    "past_100_days = data_training.tail(100)"
   ]
  },
  {
   "cell_type": "code",
   "execution_count": 92,
   "id": "104cd28b",
   "metadata": {},
   "outputs": [],
   "source": [
    "#final_df = past_100_days.append(data_testing, ignore_index=True)\n",
    "final_df = pd.concat([past_100_days, data_testing], ignore_index=True)\n"
   ]
  },
  {
   "cell_type": "code",
   "execution_count": 93,
   "id": "237239a4",
   "metadata": {},
   "outputs": [
    {
     "data": {
      "text/html": [
       "<div>\n",
       "<style scoped>\n",
       "    .dataframe tbody tr th:only-of-type {\n",
       "        vertical-align: middle;\n",
       "    }\n",
       "\n",
       "    .dataframe tbody tr th {\n",
       "        vertical-align: top;\n",
       "    }\n",
       "\n",
       "    .dataframe thead th {\n",
       "        text-align: right;\n",
       "    }\n",
       "</style>\n",
       "<table border=\"1\" class=\"dataframe\">\n",
       "  <thead>\n",
       "    <tr style=\"text-align: right;\">\n",
       "      <th>Ticker</th>\n",
       "      <th>GOOGL</th>\n",
       "    </tr>\n",
       "  </thead>\n",
       "  <tbody>\n",
       "    <tr>\n",
       "      <th>0</th>\n",
       "      <td>71.685570</td>\n",
       "    </tr>\n",
       "    <tr>\n",
       "      <th>1</th>\n",
       "      <td>71.533485</td>\n",
       "    </tr>\n",
       "    <tr>\n",
       "      <th>2</th>\n",
       "      <td>70.293434</td>\n",
       "    </tr>\n",
       "    <tr>\n",
       "      <th>3</th>\n",
       "      <td>71.571762</td>\n",
       "    </tr>\n",
       "    <tr>\n",
       "      <th>4</th>\n",
       "      <td>71.970375</td>\n",
       "    </tr>\n",
       "  </tbody>\n",
       "</table>\n",
       "</div>"
      ],
      "text/plain": [
       "Ticker      GOOGL\n",
       "0       71.685570\n",
       "1       71.533485\n",
       "2       70.293434\n",
       "3       71.571762\n",
       "4       71.970375"
      ]
     },
     "execution_count": 93,
     "metadata": {},
     "output_type": "execute_result"
    }
   ],
   "source": [
    "final_df.head()"
   ]
  },
  {
   "cell_type": "code",
   "execution_count": 94,
   "id": "9834f127",
   "metadata": {},
   "outputs": [
    {
     "data": {
      "text/plain": [
       "array([[0.02869395],\n",
       "       [0.02759326],\n",
       "       [0.0186186 ],\n",
       "       ...,\n",
       "       [0.78148078],\n",
       "       [0.77402634],\n",
       "       [0.78922477]])"
      ]
     },
     "execution_count": 94,
     "metadata": {},
     "output_type": "execute_result"
    }
   ],
   "source": [
    "input_data = scaler.fit_transform(final_df)\n",
    "input_data"
   ]
  },
  {
   "cell_type": "code",
   "execution_count": 95,
   "id": "477e8c69",
   "metadata": {},
   "outputs": [
    {
     "data": {
      "text/plain": [
       "(1267, 1)"
      ]
     },
     "execution_count": 95,
     "metadata": {},
     "output_type": "execute_result"
    }
   ],
   "source": [
    "input_data.shape"
   ]
  },
  {
   "cell_type": "code",
   "execution_count": 96,
   "id": "bc7931b3",
   "metadata": {},
   "outputs": [],
   "source": [
    "x_test = []\n",
    "y_test = []\n",
    "\n",
    "for i in range(100, input_data.shape[0]):\n",
    "    x_test.append(input_data[i-100:i])\n",
    "    y_test.append(input_data[i, 0])"
   ]
  },
  {
   "cell_type": "code",
   "execution_count": 97,
   "id": "01c5390e",
   "metadata": {},
   "outputs": [
    {
     "name": "stdout",
     "output_type": "stream",
     "text": [
      "(1167, 100, 1)\n",
      "(1167,)\n"
     ]
    }
   ],
   "source": [
    "x_test, y_test = np.array(x_test), np.array(y_test)\n",
    "print(x_test.shape)\n",
    "print(y_test.shape)"
   ]
  },
  {
   "cell_type": "code",
   "execution_count": 98,
   "id": "115a8843",
   "metadata": {},
   "outputs": [
    {
     "name": "stdout",
     "output_type": "stream",
     "text": [
      "37/37 [==============================] - 2s 37ms/step\n"
     ]
    }
   ],
   "source": [
    "#Making Predictions\n",
    "\n",
    "y_predicted = model.predict(x_test)"
   ]
  },
  {
   "cell_type": "code",
   "execution_count": 99,
   "id": "4960ecb4",
   "metadata": {},
   "outputs": [
    {
     "data": {
      "text/plain": [
       "(1167, 1)"
      ]
     },
     "execution_count": 99,
     "metadata": {},
     "output_type": "execute_result"
    }
   ],
   "source": [
    "y_predicted.shape"
   ]
  },
  {
   "cell_type": "code",
   "execution_count": 100,
   "id": "2e2a35da",
   "metadata": {},
   "outputs": [
    {
     "data": {
      "text/plain": [
       "array([0.08781216, 0.09727979, 0.07976547, ..., 0.78148078, 0.77402634,\n",
       "       0.78922477])"
      ]
     },
     "execution_count": 100,
     "metadata": {},
     "output_type": "execute_result"
    }
   ],
   "source": [
    "y_test"
   ]
  },
  {
   "cell_type": "code",
   "execution_count": 101,
   "id": "e99e7986",
   "metadata": {},
   "outputs": [
    {
     "data": {
      "text/plain": [
       "array([[0.09145218],\n",
       "       [0.09338732],\n",
       "       [0.09541595],\n",
       "       ...,\n",
       "       [0.69441116],\n",
       "       [0.70273876],\n",
       "       [0.71194243]], dtype=float32)"
      ]
     },
     "execution_count": 101,
     "metadata": {},
     "output_type": "execute_result"
    }
   ],
   "source": [
    "y_predicted"
   ]
  },
  {
   "cell_type": "code",
   "execution_count": 102,
   "id": "cbc2d8b2",
   "metadata": {},
   "outputs": [
    {
     "data": {
      "text/plain": [
       "array([0.00723733])"
      ]
     },
     "execution_count": 102,
     "metadata": {},
     "output_type": "execute_result"
    }
   ],
   "source": [
    "scaler.scale_"
   ]
  },
  {
   "cell_type": "code",
   "execution_count": 103,
   "id": "2c2df285",
   "metadata": {},
   "outputs": [],
   "source": [
    "scale_factor = 1/scaler.scale_[0]\n",
    "y_predicted = y_predicted * scale_factor\n",
    "y_test = y_test * scale_factor"
   ]
  },
  {
   "cell_type": "code",
   "execution_count": 104,
   "id": "48ccdf91",
   "metadata": {},
   "outputs": [
    {
     "data": {
      "image/png": "[encoded data removed]",
      "text/plain": [
       "<Figure size 1200x600 with 1 Axes>"
      ]
     },
     "metadata": {},
     "output_type": "display_data"
    }
   ],
   "source": [
    "plt.figure(figsize=(12, 6))\n",
    "plt.plot(y_test, 'b', label='Original Price')\n",
    "plt.plot(y_predicted, 'r', label='Predicted Price')\n",
    "plt.title('Stock Price Prediction')\n",
    "plt.xlabel('Time')\n",
    "plt.ylabel('Price')\n",
    "plt.legend()\n",
    "plt.show()"
   ]
  }
 ],
 "metadata": {
  "kernelspec": {
   "display_name": "Python 3",
   "language": "python",
   "name": "python3"
  },
  "language_info": {
   "codemirror_mode": {
    "name": "ipython",
    "version": 3
   },
   "file_extension": ".py",
   "mimetype": "text/x-python",
   "name": "python",
   "nbconvert_exporter": "python",
   "pygments_lexer": "ipython3",
   "version": "3.10.0"
  }
 },
 "nbformat": 4,
 "nbformat_minor": 5
}
